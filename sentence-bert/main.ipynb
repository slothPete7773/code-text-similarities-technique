{
 "cells": [
  {
   "cell_type": "markdown",
   "metadata": {},
   "source": [
    "# Text similarity with SenteneBERT\n",
    "\n",
    "> Ref [An Intuitive Explanation of Sentence-BERT](https://towardsdatascience.com/an-intuitive-explanation-of-sentence-bert-1984d144a868)"
   ]
  },
  {
   "cell_type": "markdown",
   "metadata": {},
   "source": [
    "## SBERT Model: paraphrase-MiniLM-L6-v2"
   ]
  },
  {
   "cell_type": "code",
   "execution_count": 4,
   "metadata": {},
   "outputs": [
    {
     "name": "stderr",
     "output_type": "stream",
     "text": [
      "Downloading: 100%|██████████| 190/190 [00:00<00:00, 147kB/s]\n",
      "Downloading: 100%|██████████| 3.69k/3.69k [00:00<00:00, 2.86MB/s]\n",
      "Downloading: 100%|██████████| 629/629 [00:00<00:00, 823kB/s]\n",
      "Downloading: 100%|██████████| 122/122 [00:00<00:00, 120kB/s]\n",
      "Downloading: 100%|██████████| 90.9M/90.9M [00:02<00:00, 31.3MB/s]\n",
      "Downloading: 100%|██████████| 53.0/53.0 [00:00<00:00, 13.4kB/s]\n",
      "Downloading: 100%|██████████| 112/112 [00:00<00:00, 68.0kB/s]\n",
      "Downloading: 100%|██████████| 466k/466k [00:10<00:00, 43.9kB/s] \n",
      "Downloading: 100%|██████████| 314/314 [00:00<00:00, 278kB/s]\n",
      "Downloading: 100%|██████████| 232k/232k [00:02<00:00, 108kB/s]  \n",
      "Downloading: 100%|██████████| 229/229 [00:00<00:00, 257kB/s]\n"
     ]
    }
   ],
   "source": [
    "from sentence_transformers import SentenceTransformer\n",
    "\n",
    "model = SentenceTransformer('sentence-transformers/paraphrase-MiniLM-L6-v2')\n"
   ]
  },
  {
   "cell_type": "code",
   "execution_count": 7,
   "metadata": {},
   "outputs": [],
   "source": [
    "sentences = ['The quick brown fox jumps over the lazy dog', \n",
    "             'Dogs are a popular household pet around the world']\n",
    "\n",
    "embeddings = model.encode(sentences)\n",
    "# print(type(embeddings))\n",
    "print(embeddings.shape)\n",
    "print(embeddings[0].shape)\n",
    "# for embedding in embeddings:\n",
    "#   print(embedding)             "
   ]
  },
  {
   "cell_type": "markdown",
   "metadata": {},
   "source": [
    "## SBERT Model: all-MiniLM-L6-v2"
   ]
  },
  {
   "cell_type": "code",
   "execution_count": 14,
   "metadata": {},
   "outputs": [
    {
     "name": "stderr",
     "output_type": "stream",
     "text": [
      "Downloading: 100%|██████████| 1.18k/1.18k [00:00<00:00, 480kB/s]\n",
      "Downloading: 100%|██████████| 190/190 [00:00<00:00, 77.5kB/s]\n",
      "Downloading: 100%|██████████| 10.6k/10.6k [00:00<00:00, 5.11MB/s]\n",
      "Downloading: 100%|██████████| 612/612 [00:00<00:00, 683kB/s]\n",
      "Downloading: 100%|██████████| 116/116 [00:00<00:00, 155kB/s]\n",
      "Downloading: 100%|██████████| 39.3k/39.3k [00:00<00:00, 65.6kB/s]\n",
      "Downloading: 100%|██████████| 90.9M/90.9M [00:05<00:00, 15.5MB/s]\n",
      "Downloading: 100%|██████████| 53.0/53.0 [00:00<00:00, 54.6kB/s]\n",
      "Downloading: 100%|██████████| 112/112 [00:00<00:00, 69.7kB/s]\n",
      "Downloading: 100%|██████████| 466k/466k [00:05<00:00, 84.6kB/s] \n",
      "Downloading: 100%|██████████| 350/350 [00:00<00:00, 178kB/s]\n",
      "Downloading: 100%|██████████| 13.2k/13.2k [00:00<00:00, 6.43MB/s]\n",
      "Downloading: 100%|██████████| 232k/232k [00:03<00:00, 69.2kB/s] \n",
      "Downloading: 100%|██████████| 349/349 [00:00<00:00, 157kB/s]\n"
     ]
    }
   ],
   "source": [
    "from sentence_transformers import SentenceTransformer, util\n",
    "\n",
    "model = SentenceTransformer('all-MiniLM-L6-v2')\n"
   ]
  },
  {
   "cell_type": "code",
   "execution_count": 15,
   "metadata": {},
   "outputs": [
    {
     "name": "stdout",
     "output_type": "stream",
     "text": [
      "[The new movie is awesome || The new movie is so great] : Score: 0.8939\n",
      "[The cat sits outside || The cat plays in the garden] : Score: 0.6788\n",
      "[I love pasta || Do you like pizza?] : Score: 0.5096\n",
      "[I love pasta || The new movie is so great] : Score: 0.2560\n",
      "[I love pasta || The new movie is awesome] : Score: 0.2440\n",
      "[A man is playing guitar || The cat plays in the garden] : Score: 0.2105\n",
      "[The new movie is awesome || Do you like pizza?] : Score: 0.1969\n",
      "[The new movie is so great || Do you like pizza?] : Score: 0.1692\n",
      "[The cat sits outside || A woman watches TV] : Score: 0.1310\n",
      "[The cat plays in the garden || Do you like pizza?] : Score: 0.0900\n"
     ]
    }
   ],
   "source": [
    "sentences = ['The cat sits outside',\n",
    "             'A man is playing guitar',\n",
    "             'I love pasta',\n",
    "             'The new movie is awesome',\n",
    "             'The cat plays in the garden',\n",
    "             'A woman watches TV',\n",
    "             'The new movie is so great',\n",
    "             'Do you like pizza?']\n",
    "            \n",
    "#encode the sentences \n",
    "embeddings = model.encode(sentences, convert_to_tensor=True)\n",
    "\n",
    "#compute the similarity scores\n",
    "cosine_scores = util.cos_sim(embeddings, embeddings)\n",
    "\n",
    "#compute/find the highest similarity scores\n",
    "pairs = []\n",
    "for i in range(len(cosine_scores)-1):\n",
    "    for j in range(i+1, len(cosine_scores)):\n",
    "        pairs.append({'index': [i, j], 'score': cosine_scores[i][j]})\n",
    "\n",
    "#sort the scores in decreasing order \n",
    "pairs = sorted(pairs, key=lambda x: x['score'], reverse=True)\n",
    "for pair in pairs[0:10]:\n",
    "    i, j = pair['index']\n",
    "    print(\"[{} || {}] : Score: {:.4f}\".format(sentences[i],\n",
    "                                  sentences[j], pair['score']))"
   ]
  },
  {
   "cell_type": "code",
   "execution_count": 19,
   "metadata": {},
   "outputs": [
    {
     "name": "stdout",
     "output_type": "stream",
     "text": [
      "torch.Size([384])\n"
     ]
    }
   ],
   "source": [
    "print(embeddings[2].shape)"
   ]
  },
  {
   "cell_type": "code",
   "execution_count": null,
   "metadata": {},
   "outputs": [],
   "source": []
  }
 ],
 "metadata": {
  "kernelspec": {
   "display_name": "Python 3.10.6 ('text-similarity')",
   "language": "python",
   "name": "python3"
  },
  "language_info": {
   "codemirror_mode": {
    "name": "ipython",
    "version": 3
   },
   "file_extension": ".py",
   "mimetype": "text/x-python",
   "name": "python",
   "nbconvert_exporter": "python",
   "pygments_lexer": "ipython3",
   "version": "3.10.6"
  },
  "orig_nbformat": 4,
  "vscode": {
   "interpreter": {
    "hash": "24de2d0b3ed64f1c349659d8a2e1ee9852bc0fde3436e32dd748bf77ec3c5550"
   }
  }
 },
 "nbformat": 4,
 "nbformat_minor": 2
}
