{
 "cells": [
  {
   "cell_type": "code",
   "execution_count": 3,
   "metadata": {},
   "outputs": [],
   "source": [
    "from transformers import AutoTokenizer, AutoModel\n",
    "# from transformers import RobertaTokenizer, RobertaConfig, RobertaModel\n",
    "import torch"
   ]
  },
  {
   "cell_type": "code",
   "execution_count": 31,
   "metadata": {},
   "outputs": [
    {
     "name": "stdout",
     "output_type": "stream",
     "text": [
      "NL Tokens: ['The', 'Ġcondition', 'Ġwill', 'Ġalways', 'Ġreturn', 'Ġa', 'Ġstring', 'Ġof', 'Ġ\"', 'a', '\"']\n",
      "Code Tokens: ['if', 'Ġa', 'equal', '():', 'Ġreturn', 'Ġ\"', 'a', '\"']\n"
     ]
    }
   ],
   "source": [
    "tokenizer = AutoTokenizer.from_pretrained('microsoft/codebert-base')\n",
    "model = AutoModel.from_pretrained('microsoft/codebert-base')\n",
    "\n",
    "nl_tokens = tokenizer.tokenize('The condition will always return a string of \"a\"')\n",
    "print(f'NL Tokens: {nl_tokens}')\n",
    "code_tokens = tokenizer.tokenize('if aequal(): return \"a\"')\n",
    "print(f'Code Tokens: {code_tokens}')"
   ]
  },
  {
   "cell_type": "code",
   "execution_count": 32,
   "metadata": {},
   "outputs": [
    {
     "name": "stdout",
     "output_type": "stream",
     "text": [
      "['<s>', 'The', 'Ġcondition', 'Ġwill', 'Ġalways', 'Ġreturn', 'Ġa', 'Ġstring', 'Ġof', 'Ġ\"', 'a', '\"', '</s>', 'if', 'Ġa', 'equal', '():', 'Ġreturn', 'Ġ\"', 'a', '\"', '</s>']\n",
      "22\n"
     ]
    }
   ],
   "source": [
    "# Concatenate tokens\n",
    "tokens = [tokenizer.cls_token]+nl_tokens+[tokenizer.sep_token]+code_tokens+[tokenizer.eos_token]\n",
    "print(tokens)\n",
    "print(len(tokens))"
   ]
  },
  {
   "cell_type": "code",
   "execution_count": 33,
   "metadata": {},
   "outputs": [
    {
     "name": "stdout",
     "output_type": "stream",
     "text": [
      "[0, 133, 1881, 40, 460, 671, 10, 6755, 9, 22, 102, 113, 2, 1594, 10, 30349, 49536, 671, 22, 102, 113, 2]\n"
     ]
    }
   ],
   "source": [
    "# Convert word tokens to ID representative tokens\n",
    "tokens_ids = tokenizer.convert_tokens_to_ids(tokens)\n",
    "print(tokens_ids)"
   ]
  },
  {
   "cell_type": "code",
   "execution_count": 34,
   "metadata": {},
   "outputs": [],
   "source": [
    "context_embeddings = model(torch.tensor(tokens_ids)[None,:])[0]\n",
    "# print(type(context_embeddings))"
   ]
  },
  {
   "cell_type": "code",
   "execution_count": 35,
   "metadata": {},
   "outputs": [
    {
     "name": "stdout",
     "output_type": "stream",
     "text": [
      "(1, 22, 768)\n"
     ]
    }
   ],
   "source": [
    "np_embedding = context_embeddings.cpu().detach().numpy()\n",
    "print(np_embedding.shape)"
   ]
  }
 ],
 "metadata": {
  "kernelspec": {
   "display_name": "Python 3.10.6 ('text-similarity')",
   "language": "python",
   "name": "python3"
  },
  "language_info": {
   "codemirror_mode": {
    "name": "ipython",
    "version": 3
   },
   "file_extension": ".py",
   "mimetype": "text/x-python",
   "name": "python",
   "nbconvert_exporter": "python",
   "pygments_lexer": "ipython3",
   "version": "3.10.6"
  },
  "orig_nbformat": 4,
  "vscode": {
   "interpreter": {
    "hash": "24de2d0b3ed64f1c349659d8a2e1ee9852bc0fde3436e32dd748bf77ec3c5550"
   }
  }
 },
 "nbformat": 4,
 "nbformat_minor": 2
}
